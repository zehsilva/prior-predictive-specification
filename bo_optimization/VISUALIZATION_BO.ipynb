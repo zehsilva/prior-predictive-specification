{
 "cells": [
  {
   "cell_type": "code",
   "execution_count": 1,
   "metadata": {},
   "outputs": [],
   "source": [
    "from matplotlib import pyplot as plt\n",
    "import pandas as pd\n",
    "import numpy as np\n",
    "import random\n",
    "\n",
    "np.random.seed(123)"
   ]
  },
  {
   "cell_type": "code",
   "execution_count": 2,
   "metadata": {},
   "outputs": [],
   "source": [
    "OPT = -206220149 # PSIS-LOO for prior optimal on the test set"
   ]
  },
  {
   "cell_type": "markdown",
   "metadata": {},
   "source": [
    "# Preprocessing code"
   ]
  },
  {
   "cell_type": "code",
   "execution_count": 3,
   "metadata": {},
   "outputs": [],
   "source": [
    "DIR=\"RESULTS_BO/\"\n",
    "\n",
    "def extract_best_solutions(df): \n",
    "    \"\"\"Calculates the best hyperparams until time t.\"\"\"\n",
    "    df.sort_values(by=[\"t\", \"train_loo\"], inplace=True)\n",
    "    best_train, best_test = [], []\n",
    "    for i, (t, train_loo, test_loo) in enumerate(zip(df[\"t\"], df[\"train_loo\"], df[\"test_loo\"])):\n",
    "        if len(best_train)<=0: \n",
    "            best_train = [train_loo]\n",
    "            best_test = [test_loo]\n",
    "        else:\n",
    "            if best_train[-1]<train_loo:\n",
    "                best_train.append(train_loo)\n",
    "                if np.isnan(test_loo): best_test.append(best_test[-1])\n",
    "                else:                  best_test.append(test_loo)\n",
    "            else:\n",
    "                best_train.append(best_train[-1])\n",
    "                best_test.append(best_test[-1])\n",
    "    df[\"best_train\"] = best_train\n",
    "    df[\"best_test\"] = best_test\n",
    "    df[\"better_than_prior\"] = np.array(df[\"best_test\"]) > OPT\n",
    "    return df\n",
    "\n",
    "\n",
    "def load_csv(path, directory=DIR):\n",
    "    COLUMNS = [\"K\",\"a\",\"b\",\"c\",\"d\",\"train_loo\",\"test_loo\",\"st\",\"mt\",\"et\"]\n",
    "    df = pd.read_csv(directory+path, header=None).rename(columns=dict(enumerate(COLUMNS)))\n",
    "    start = df[\"st\"].min()\n",
    "    df[\"t\"] = df[\"et\"]-start\n",
    "    \n",
    "    df = extract_best_solutions(df)\n",
    "    return df\n",
    "\n",
    "\n",
    "def load_csvs(paths, requested_lifetime=5000, populate_numtimes=10, directory=DIR, verbose=False):\n",
    "    \"\"\"Returns list of BOs and list of BOs populated and extened randomly to requested time.\"\"\"\n",
    "    dfs0 = [load_csv(path,directory) for path in paths] \n",
    "    \n",
    "    dfs = []\n",
    "    for p, df0 in enumerate(dfs0):\n",
    "        for i in range(populate_numtimes):\n",
    "            \n",
    "            df = df0.copy()                        \n",
    "            while df[\"t\"].max() < requested_lifetime:\n",
    "                if verbose:\n",
    "                    print(\"Extending %s. Current lifetime: %s (%i rows).\" % \\\n",
    "                          (paths[p], df[\"t\"].max(), len(df)))\n",
    "                df1 = random.choice(dfs0).copy()\n",
    "                df1[\"t\"] = df1[\"t\"] + df[\"t\"].max() #shift time\n",
    "                df = df.append(df1)  \n",
    "                df = extract_best_solutions(df) #reevaluate best solution\n",
    "            if verbose:\n",
    "                print(\"%s. Final lifetime of %s is %s (%i rows).\" % \\\n",
    "                      (i, paths[p], df[\"t\"].max(), len(df)))\n",
    "            dfs.append(df)\n",
    "        \n",
    "    return dfs0, dfs"
   ]
  },
  {
   "cell_type": "code",
   "execution_count": 4,
   "metadata": {},
   "outputs": [],
   "source": [
    "def extract_lifetimes(dfs):\n",
    "    return [df[\"t\"].max() for df in dfs]\n",
    "\n",
    "\n",
    "def extract_threshold_time(df):\n",
    "    \"\"\"Returns time when better than prior opt.\"\"\"\n",
    "    d = df[df[\"better_than_prior\"]==True][\"t\"]\n",
    "    return None if len(d)<=0 else d.min()\n",
    "\n",
    "\n",
    "def extract_threshold_times(dfs):    \n",
    "    return [extract_threshold_time(df) for df in dfs]  \n",
    "\n",
    "    \n",
    "def calc_fraction_above_threshold(threshold_times, lifetimes, max_time=10000, omit_crashed_at_time=True):\n",
    "    threshold_times = np.array(threshold_times)\n",
    "    lifetimes = np.array(lifetimes)\n",
    "    threshold_times[threshold_times==None] = 10000000000\n",
    "\n",
    "    times = np.arange(0, max_time, 10)\n",
    "    fractions = []\n",
    "    for t in times:\n",
    "        valid_thresholds_times = threshold_times[ (lifetimes>t) | (threshold_times<t) ] \n",
    "        normalizer = len(valid_thresholds_times) if omit_crashed_at_time else len(threshold_times)\n",
    "        above_threshold_fraction = np.sum(valid_thresholds_times<t)/normalizer\n",
    "        #print(t, above_threshold_fraction)\n",
    "        fractions.append(above_threshold_fraction)\n",
    "    return times, np.array(fractions)"
   ]
  },
  {
   "cell_type": "markdown",
   "metadata": {},
   "source": [
    "# Results"
   ]
  },
  {
   "cell_type": "code",
   "execution_count": 5,
   "metadata": {},
   "outputs": [],
   "source": [
    "COLORS = ['yellow', 'teal', 'crimson',  'pink', \"dodgerblue\", \n",
    "          'mediumspringgreen', 'limegreen',  'violet', 'orange', \"salmon\"]\n",
    "\n",
    "COLNO = 0 \n",
    "    \n",
    "def plot_df(df):\n",
    "    global COLNO\n",
    "    c = COLORS[COLNO%len(COLORS)]\n",
    "    plt.plot(df[\"t\"], df[\"best_test\"], lw=2.5, color=c)\n",
    "    plt.scatter(list(df[\"t\"])[-1], list(df[\"best_test\"])[-1], marker=\"x\", s=90, color=c)\n",
    "    COLNO += 1\n",
    "        \n",
    "def plt_csv(path):\n",
    "    df = load_csv(path)\n",
    "    plot_df(df)        \n",
    "    return df"
   ]
  },
  {
   "cell_type": "code",
   "execution_count": 6,
   "metadata": {},
   "outputs": [],
   "source": [
    "paths1 = [\"bo_pmf_cfg3_100_bo_posterior.csv\", \"bo_pmf_cfg3_101_bo_posterior.csv\", \"bo_pmf_cfg3_102_bo_posterior.csv\", \n",
    "\"bo_pmf_cfg3_103_bo_posterior.csv\", \"bo_pmf_cfg3_104_bo_posterior.csv\", \"bo_pmf_cfg3_105_bo_posterior.csv\", \n",
    "\"bo_pmf_cfg3_106_bo_posterior.csv\", \"bo_pmf_cfg3_107_bo_posterior.csv\", \"bo_pmf_cfg3_108_bo_posterior.csv\", \n",
    "\"bo_pmf_cfg3_109_bo_posterior.csv\", \"bo_pmf_cfg3_110_bo_posterior.csv\", \"bo_pmf_cfg3_111_bo_posterior.csv\", \n",
    "\"bo_pmf_cfg3_112_bo_posterior.csv\", \"bo_pmf_cfg3_113_bo_posterior.csv\", \"bo_pmf_cfg3_114_bo_posterior.csv\", \n",
    "\"bo_pmf_cfg3_115_bo_posterior.csv\", ]\n",
    "\n",
    "paths2 = [\"bo_pmf_cfg3_200_bo_posterior.csv\", \"bo_pmf_cfg3_201_bo_posterior.csv\", \n",
    "\"bo_pmf_cfg3_202_bo_posterior.csv\", \"bo_pmf_cfg3_203_bo_posterior.csv\", \"bo_pmf_cfg3_204_bo_posterior.csv\", \n",
    "\"bo_pmf_cfg3_205_bo_posterior.csv\", \"bo_pmf_cfg3_206_bo_posterior.csv\", \"bo_pmf_cfg3_207_bo_posterior.csv\", \n",
    "\"bo_pmf_cfg3_208_bo_posterior.csv\", \"bo_pmf_cfg3_209_bo_posterior.csv\", \"bo_pmf_cfg3_210_bo_posterior.csv\", \n",
    "\"bo_pmf_cfg3_211_bo_posterior.csv\", \"bo_pmf_cfg3_212_bo_posterior.csv\", \"bo_pmf_cfg3_213_bo_posterior.csv\", \n",
    "\"bo_pmf_cfg3_214_bo_posterior.csv\", \"bo_pmf_cfg3_215_bo_posterior.csv\"]\n",
    "\n",
    "paths3 = [\"bo_pmf_cfg3_300_bo_posterior.csv\", #interrupted part\n",
    "\"bo_pmf_cfg3_301_bo_posterior.csv\", \"bo_pmf_cfg3_302_bo_posterior.csv\", \"bo_pmf_cfg3_304_bo_posterior.csv\", \n",
    "\"bo_pmf_cfg3_308_bo_posterior.csv\", \"bo_pmf_cfg3_309_bo_posterior.csv\", \"bo_pmf_cfg3_312_bo_posterior.csv\"]"
   ]
  },
  {
   "cell_type": "code",
   "execution_count": 13,
   "metadata": {},
   "outputs": [
    {
     "name": "stderr",
     "output_type": "stream",
     "text": [
      "/home/anonymized/anaconda3/lib/python3.7/site-packages/ipykernel_launcher.py:21: RuntimeWarning: invalid value encountered in greater\n"
     ]
    }
   ],
   "source": [
    "np.random.seed(999)\n",
    "dfs0, dfs = load_csvs(paths1+paths2, requested_lifetime=3600, populate_numtimes=1)\n",
    "np.random.shuffle(dfs)"
   ]
  },
  {
   "cell_type": "code",
   "execution_count": 17,
   "metadata": {},
   "outputs": [
    {
     "data": {
      "image/png": "[encoded data removed]",
      "text/plain": [
       "<Figure size 460.8x345.6 with 1 Axes>"
      ]
     },
     "metadata": {},
     "output_type": "display_data"
    }
   ],
   "source": [
    "from aux_plt import  start_plotting\n",
    "start_plotting(cmbright=False)\n",
    "\n",
    "for df in dfs[:10]: plot_df(df)\n",
    "\n",
    "\n",
    "#plt.ylim(-2.1*1e8, -2.02*1e8)\n",
    "#plt.ylim(-2.15*1e8, -2.05*1e8)\n",
    "plt.ylim(-2.3*1e8, -1.975*1e8)\n",
    "#plt.xscale(\"log\")\n",
    "plt.xlim(0,3600)\n",
    "\n",
    "plt.axhline(OPT, lw=2.5, color=\"k\", ls=\"--\")\n",
    "x1, x2 = plt.xlim()\n",
    "plt.text(x2,OPT,\"prior optimal\", ha=\"right\", va=\"bottom\")\n",
    "\n",
    "plt.xlabel(\"time [s]\")\n",
    "plt.ylabel(\"PSIS-LOO on test\")\n",
    "\n",
    "plt.subplots_adjust(left=0.2, right=0.95, top=0.9, bottom=0.15)    \n",
    "plt.savefig(\"bo.pdf\")\n",
    "plt.show()"
   ]
  },
  {
   "cell_type": "code",
   "execution_count": 9,
   "metadata": {},
   "outputs": [
    {
     "name": "stderr",
     "output_type": "stream",
     "text": [
      "/home/anonymized/anaconda3/lib/python3.7/site-packages/ipykernel_launcher.py:21: RuntimeWarning: invalid value encountered in greater\n"
     ]
    }
   ],
   "source": [
    "dfs0, dfs = load_csvs(paths1+paths2, requested_lifetime=10000, populate_numtimes=10)"
   ]
  },
  {
   "cell_type": "code",
   "execution_count": 23,
   "metadata": {},
   "outputs": [
    {
     "data": {
      "image/png": "[encoded data removed]",
      "text/plain": [
       "<Figure size 460.8x345.6 with 1 Axes>"
      ]
     },
     "metadata": {},
     "output_type": "display_data"
    }
   ],
   "source": [
    "start_plotting(cmbright=False)\n",
    "\n",
    "threshold_times = extract_threshold_times(dfs)\n",
    "lifetimes = extract_lifetimes(dfs)\n",
    "times, fractions = calc_fraction_above_threshold(threshold_times, lifetimes, omit_crashed_at_time=True)\n",
    "\n",
    "plt.plot(times, fractions, lw=2.5, color=\"dodgerblue\")\n",
    "#plt.xscale(\"log\")\n",
    "plt.xlim(0,3600)\n",
    "plt.ylabel(r\"P[ BO $>$ prior optimal ]\")\n",
    "plt.ylim(0, 0.6)\n",
    "plt.xlabel(\"time [s]\")\n",
    "plt.subplots_adjust(left=0.2, right=0.95, top=0.9, bottom=0.15)    \n",
    "plt.savefig(\"bo_fraction.pdf\")\n",
    "plt.show()"
   ]
  },
  {
   "cell_type": "code",
   "execution_count": null,
   "metadata": {},
   "outputs": [],
   "source": []
  }
 ],
 "metadata": {
  "kernelspec": {
   "display_name": "Python 3",
   "language": "python",
   "name": "python3"
  },
  "language_info": {
   "codemirror_mode": {
    "name": "ipython",
    "version": 3
   },
   "file_extension": ".py",
   "mimetype": "text/x-python",
   "name": "python",
   "nbconvert_exporter": "python",
   "pygments_lexer": "ipython3",
   "version": "3.7.4"
  }
 },
 "nbformat": 4,
 "nbformat_minor": 2
}
