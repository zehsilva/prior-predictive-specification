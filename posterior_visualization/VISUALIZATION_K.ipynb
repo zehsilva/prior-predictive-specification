{
 "cells": [
  {
   "cell_type": "code",
   "execution_count": 1,
   "metadata": {
    "colab": {
     "base_uri": "https://localhost:8080/",
     "height": 154
    },
    "colab_type": "code",
    "id": "9s-mOPDCNo46",
    "outputId": "0ee11611-ff6a-4ad9-9375-02e372090527"
   },
   "outputs": [],
   "source": [
    "import matplotlib.pyplot as plt\n",
    "import numpy as np\n",
    "import pandas as pd\n",
    "\n",
    "from aux_plt import start_plotting\n"
   ]
  },
  {
   "cell_type": "code",
   "execution_count": 2,
   "metadata": {
    "colab": {
     "base_uri": "https://localhost:8080/",
     "height": 581
    },
    "colab_type": "code",
    "id": "W5zW_kdqPdJn",
    "outputId": "e12a0cf5-fa42-4656-cad9-f2fc20940984"
   },
   "outputs": [
    {
     "name": "stdout",
     "output_type": "stream",
     "text": [
      "[pmf_objectives] Loading user_artists.dat (default train-test split).\n",
      "[load_train_test] Loading train from ../data/user_artists.dat_train0.9.npy and test from ../data/user_artists.dat_test0.9.npy\n",
      "[pmf_objectives] Default data: stats={'e_mean': 2.073876076507062, 'e_var': 40701.756535073204, 'e_corr_vals': array([0.0318278 , 0.00043282]), 'e_latent_dim': 7.422880754316604}, nrows=1892 ncols=17632 => K=8, a=0.03289054016767333, b=0.03289054016767333, c=0.0004472737523063275, d=0.0017253634674629199, b*d=4.930661612021052e-05\n"
     ]
    }
   ],
   "source": [
    "import pmf_objectives"
   ]
  },
  {
   "cell_type": "code",
   "execution_count": 3,
   "metadata": {},
   "outputs": [
    {
     "name": "stdout",
     "output_type": "stream",
     "text": [
      "[posterior_objective_psisloo] K=2, a=0.03289054016767333, b=0.03289054016767333, c=0.0004472737523063275, d=0.0017253634674629199, seed=123\n",
      "[pmf] rows= 1892\n",
      "[pmf] cols= 17632\n",
      "\tAfter ITERATION: 1\tObjective: 177223460.13\tOld objective: 177217801.92\tImprovement: 0.00003\n",
      "[posterior_objective_psisloo] K=4, a=0.03289054016767333, b=0.03289054016767333, c=0.0004472737523063275, d=0.0017253634674629199, seed=123\n",
      "[pmf] rows= 1892\n",
      "[pmf] cols= 17632\n",
      "\tAfter ITERATION: 1\tObjective: 176969000.66\tOld objective: 176953293.98\tImprovement: 0.00009\n",
      "[posterior_objective_psisloo] K=6, a=0.03289054016767333, b=0.03289054016767333, c=0.0004472737523063275, d=0.0017253634674629199, seed=123\n",
      "[pmf] rows= 1892\n",
      "[pmf] cols= 17632\n",
      "\tAfter ITERATION: 2\tObjective: 176720088.29\tOld objective: 176725012.54\tImprovement: 0.00003\n",
      "[posterior_objective_psisloo] K=8, a=0.03289054016767333, b=0.03289054016767333, c=0.0004472737523063275, d=0.0017253634674629199, seed=123\n",
      "[pmf] rows= 1892\n",
      "[pmf] cols= 17632\n",
      "\tAfter ITERATION: 2\tObjective: 176473503.39\tOld objective: 176479522.55\tImprovement: 0.00003\n",
      "[posterior_objective_psisloo] K=10, a=0.03289054016767333, b=0.03289054016767333, c=0.0004472737523063275, d=0.0017253634674629199, seed=123\n",
      "[pmf] rows= 1892\n",
      "[pmf] cols= 17632\n",
      "\tAfter ITERATION: 2\tObjective: 176232438.37\tOld objective: 176239055.93\tImprovement: 0.00004\n",
      "[posterior_objective_psisloo] K=12, a=0.03289054016767333, b=0.03289054016767333, c=0.0004472737523063275, d=0.0017253634674629199, seed=123\n",
      "[pmf] rows= 1892\n",
      "[pmf] cols= 17632\n",
      "\tAfter ITERATION: 2\tObjective: 175995418.70\tOld objective: 176002178.28\tImprovement: 0.00004\n",
      "[posterior_objective_psisloo] K=14, a=0.03289054016767333, b=0.03289054016767333, c=0.0004472737523063275, d=0.0017253634674629199, seed=123\n",
      "[pmf] rows= 1892\n",
      "[pmf] cols= 17632\n",
      "\tAfter ITERATION: 2\tObjective: 175765950.29\tOld objective: 175773341.27\tImprovement: 0.00004\n",
      "[posterior_objective_psisloo] K=16, a=0.03289054016767333, b=0.03289054016767333, c=0.0004472737523063275, d=0.0017253634674629199, seed=123\n",
      "[pmf] rows= 1892\n",
      "[pmf] cols= 17632\n",
      "\tAfter ITERATION: 2\tObjective: 175531102.52\tOld objective: 175538219.30\tImprovement: 0.00004\n",
      "[posterior_objective_psisloo] K=18, a=0.03289054016767333, b=0.03289054016767333, c=0.0004472737523063275, d=0.0017253634674629199, seed=123\n",
      "[pmf] rows= 1892\n",
      "[pmf] cols= 17632\n",
      "\tAfter ITERATION: 2\tObjective: 175311659.64\tOld objective: 175318515.94\tImprovement: 0.00004\n",
      "[posterior_objective_psisloo] K=20, a=0.03289054016767333, b=0.03289054016767333, c=0.0004472737523063275, d=0.0017253634674629199, seed=123\n",
      "[pmf] rows= 1892\n",
      "[pmf] cols= 17632\n",
      "\tAfter ITERATION: 2\tObjective: 175082613.89\tOld objective: 175090068.50\tImprovement: 0.00004\n",
      "[posterior_objective_psisloo] K=25, a=0.03289054016767333, b=0.03289054016767333, c=0.0004472737523063275, d=0.0017253634674629199, seed=123\n",
      "[pmf] rows= 1892\n",
      "[pmf] cols= 17632\n",
      "\tAfter ITERATION: 2\tObjective: 174534080.68\tOld objective: 174541537.47\tImprovement: 0.00004\n",
      "[posterior_objective_psisloo] K=30, a=0.03289054016767333, b=0.03289054016767333, c=0.0004472737523063275, d=0.0017253634674629199, seed=123\n",
      "[pmf] rows= 1892\n",
      "[pmf] cols= 17632\n",
      "\tAfter ITERATION: 2\tObjective: 174002420.99\tOld objective: 174009898.78\tImprovement: 0.00004\n",
      "[posterior_objective_psisloo] K=35, a=0.03289054016767333, b=0.03289054016767333, c=0.0004472737523063275, d=0.0017253634674629199, seed=123\n",
      "[pmf] rows= 1892\n",
      "[pmf] cols= 17632\n",
      "\tAfter ITERATION: 2\tObjective: 173475797.82\tOld objective: 173483272.56\tImprovement: 0.00004\n",
      "[posterior_objective_psisloo] K=40, a=0.03289054016767333, b=0.03289054016767333, c=0.0004472737523063275, d=0.0017253634674629199, seed=123\n",
      "[pmf] rows= 1892\n",
      "[pmf] cols= 17632\n",
      "\tAfter ITERATION: 2\tObjective: 172961593.07\tOld objective: 172969223.02\tImprovement: 0.00004\n"
     ]
    }
   ],
   "source": [
    "res2 = []\n",
    "latent=[2,4,6,8,10,12,14,16,18,20,25,30,35,40]\n",
    "for k in latent:\n",
    "    obj = pmf_objectives.posterior_objective_psisloo(K=k)[\"obj\"]    \n",
    "    res2.append(obj)"
   ]
  },
  {
   "cell_type": "code",
   "execution_count": 4,
   "metadata": {},
   "outputs": [],
   "source": [
    "start_plotting(cmbright=False)\n",
    "plt.rc('xtick', labelsize=22)    # fontsize of the tick labels\n",
    "plt.rc('ytick', labelsize=22)    # fontsize of the tick labels\n",
    "\n",
    "\n",
    "plt.plot(latent, res2, lw=2.5, color=\"dodgerblue\")\n",
    "plt.xlabel(r\"$K$\")\n",
    "plt.ylabel(r\"PSIS-LOO on test\")\n",
    "\n",
    "Kopt = pmf_objectives.K\n",
    "plt.axvline(Kopt, color=\"k\", lw=2, ls=\"--\")\n",
    "y1,y2 = plt.ylim(); plt.text(Kopt, y1, \"prior optimal\", rotation=90, ha=\"right\", va=\"bottom\")\n",
    "\n",
    "\n",
    "plt.subplots_adjust(left=0.2, right=0.95, top=0.925, bottom=0.2)    \n",
    "plt.savefig(\"lastfm_loo_k_mean1.pdf\")\n"
   ]
  },
  {
   "cell_type": "code",
   "execution_count": null,
   "metadata": {},
   "outputs": [],
   "source": []
  }
 ],
 "metadata": {
  "colab": {
   "collapsed_sections": [],
   "include_colab_link": true,
   "name": "HPF Matching priors",
   "provenance": []
  },
  "kernelspec": {
   "display_name": "Python 3",
   "language": "python",
   "name": "python3"
  },
  "language_info": {
   "codemirror_mode": {
    "name": "ipython",
    "version": 3
   },
   "file_extension": ".py",
   "mimetype": "text/x-python",
   "name": "python",
   "nbconvert_exporter": "python",
   "pygments_lexer": "ipython3",
   "version": "3.7.4"
  }
 },
 "nbformat": 4,
 "nbformat_minor": 1
}
